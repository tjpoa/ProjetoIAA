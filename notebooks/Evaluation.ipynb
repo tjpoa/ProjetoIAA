{
 "cells": [
  {
   "cell_type": "markdown",
   "metadata": {},
   "source": [
    "# Avaliação dos Modelos Implementados"
   ]
  },
  {
   "cell_type": "markdown",
   "metadata": {},
   "source": [
    "## Aprendizagem Supervisionada"
   ]
  },
  {
   "cell_type": "markdown",
   "metadata": {},
   "source": [
    "Com base nos resultados obtidos na modulação, podemos fazer algumas conclusões importantes sobre o desempenho dos três modelos (Decision Tree, MLP e K-NN) para prever o risco de doenças cardíacas. \n",
    "\n",
    "### 1. Acurácia dos Modelos:\n",
    "\n",
    "* Decision Tree (DT): Acurácia de 92% (0.92)\n",
    "* MLP: Acurácia de 92% (0.92)\n",
    "* K-NN: Acurácia de 91% (0.91) \n",
    "\n",
    "Todos os modelos têm uma alta acurácia (superior a 90%). A acurácia do modelo Decision Tree e MLP são muito semelhantes, com a vantagem que o Decision Tree é mais rápido. O K-NN apresenta uma ligeira queda na acurácia, mas ainda assim tem um bom desempenho.\n",
    "\n",
    "### 2. Precisão (Precision):\n",
    "\n",
    "* Precisão (No Heart Disease): A precisão para a classe \"Heart Disease=No\" é muito alta em todos os modelos, variando entre 92% e 93%.\n",
    "\n",
    "* Precisão (Heart Disease): A precisão para a classe \"Heart Disease=Yes\" é mais baixa, com o Decision Tree apresentando 53%, o MLP 48%, e o K-NN 32%.\n",
    "\n",
    "Todos os modelos têm um bom desempenho em prever corretamente os casos sem doença cardíaca, mas a precisão para detectar corretamente os casos com doença cardíaca é consideravelmente baixa, especialmente para o K-NN, que tem apena 32% de precisão.\n",
    "\n",
    "### 3. Recall (Sensibilidade):\n",
    "* Recall (No Heart Disease): A sensibilidade para a classe \"Heart Disease=No\" é muito alta em todos os modelos (acima de 98%).\n",
    "\n",
    "* Recall (Heart Disease): A sensibilidade para a classe \"Heart Disease=Yes\" é muito baixa em todos os modelos, com o Decision Tree e MLP apresentando recall de cerca de 3%, e o K-NN 9%.\n",
    "\n",
    "Embora os modelos sejam muito bons em identificar corretamente os indivíduos sem doença cardíaca, a capacidade de identificar os indivíduos com doença cardíaca é muito fraca, especialmente para o Decision Tree e MLP, com recall de apenas 3%. O K-NN apresenta um recall ligeiramente melhor (9%), mas ainda é muito baixo.\n",
    "\n",
    "### 4. F1-Score:\n",
    "* F1-Score (No Heart Disease): Os F1-scores para a classe \"Heart Disease=No\" são muito altos em todos os modelos, indicando um bom equilíbrio entre precisão e recall para essa classe.\n",
    "\n",
    "* F1-Score (Heart Disease): O F1-score para a classe \"Heart Disease=Yes\" é muito baixo em todos os modelos. O Decision Tree e MLP têm F1-scores muito baixos (0.06 e 0.05), enquanto o K-NN tem um desempenho ligeiramente melhor (0.14).\n",
    "\n",
    "O desempenho dos modelos para a classe \"Heart Disease=Yes\" é insuficiente, com todos os modelos tendo F1-scores baixos para essa classe. Isso sugere que, embora os modelos consigam identificar bem os indivíduos sem a doença, eles não são eficazes em identificar os pacientes com a doença.\n",
    "\n",
    "### 5. Importância dos Atributos:\n",
    "* Atributos mais importantes: A variável Age_Category é a mais importante, seguida por Diabetes e General_Health. Estes fatores parecem ser os mais relevantes para prever a presença de doença cardíaca.\n",
    "\n",
    "* Atributos com pouca ou nenhuma importância: A maioria das variáveis, como Exercise, Checkup, BMI, Alcohol_Consumption, entre outras, têm pouca ou nenhuma importância.\n",
    "\n",
    "\n",
    "## Conclusão Geral:\n",
    "* Tendo em conta os parâmetros avaliados e a rapidez de execução, o *Decision Tree* demonstrou ser o algortimo mais preciso e eficiente.\n",
    "\n",
    "* Todos os modelos têm boa acurácia na classificação de indivíduos sem doença cardíaca.\n",
    "\n",
    "* O maior desafio é a baixa capacidade dos modelos em identificar corretamente os pacientes com doença cardíaca, refletido em baixos valores de recall e F1-score para a classe \"Heart Disease\".\n",
    "\n",
    "* A implementação de modelos mais avançados como XGBoost ou Random Forest poderiam eventualmente lidar melhor com desbalanceamento de classes observada no *dataset* em análise.\n",
    "\n"
   ]
  }
 ],
 "metadata": {
  "language_info": {
   "name": "python"
  }
 },
 "nbformat": 4,
 "nbformat_minor": 2
}
