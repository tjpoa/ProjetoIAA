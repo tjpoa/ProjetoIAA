{
 "cells": [
  {
   "cell_type": "markdown",
   "metadata": {},
   "source": [
    "# **3. Evaluation**"
   ]
  },
  {
   "cell_type": "markdown",
   "metadata": {},
   "source": [
    "## Aprendizagem Supervisionada"
   ]
  },
  {
   "cell_type": "markdown",
   "metadata": {},
   "source": [
    "Com base nos resultados obtidos na modulação, podemos fazer algumas conclusões importantes sobre o desempenho dos três modelos (Decision Tree, MLP e K-NN) para prever o risco de doenças cardíacas. \n",
    "\n",
    "### 1. Acurácia dos Modelos:\n",
    "\n",
    "* Decision Tree (DT): Acurácia de 92% (0.92)\n",
    "* MLP: Acurácia de 92% (0.92)\n",
    "* K-NN: Acurácia de 91% (0.91) \n",
    "\n",
    "Todos os modelos têm uma alta acurácia (superior a 90%). A acurácia do modelo Decision Tree e MLP são muito semelhantes, com a vantagem que o Decision Tree é mais rápido. O K-NN apresenta uma ligeira queda na acurácia, mas ainda assim tem um bom desempenho.\n",
    "\n",
    "### 2. Precisão (Precision):\n",
    "\n",
    "* Precisão (No Heart Disease): A precisão para a classe \"Heart Disease=No\" é muito alta em todos os modelos, variando entre 92% e 93%.\n",
    "\n",
    "* Precisão (Heart Disease): A precisão para a classe \"Heart Disease=Yes\" é mais baixa, com o Decision Tree apresentando 53%, o MLP 48%, e o K-NN 32%.\n",
    "\n",
    "Todos os modelos têm um bom desempenho em prever corretamente os casos sem doença cardíaca, mas a precisão para detectar corretamente os casos com doença cardíaca é consideravelmente baixa, especialmente para o K-NN, que tem apena 32% de precisão.\n",
    "\n",
    "### 3. Recall (Sensibilidade):\n",
    "* Recall (No Heart Disease): A sensibilidade para a classe \"Heart Disease=No\" é muito alta em todos os modelos (acima de 98%).\n",
    "\n",
    "* Recall (Heart Disease): A sensibilidade para a classe \"Heart Disease=Yes\" é muito baixa em todos os modelos, com o Decision Tree e MLP apresentando recall de cerca de 3%, e o K-NN 9%.\n",
    "\n",
    "Embora os modelos sejam muito bons em identificar corretamente os indivíduos sem doença cardíaca, a capacidade de identificar os indivíduos com doença cardíaca é muito fraca, especialmente para o Decision Tree e MLP, com recall de apenas 3%. O K-NN apresenta um recall ligeiramente melhor (9%), mas ainda é muito baixo.\n",
    "\n",
    "### 4. F1-Score:\n",
    "* F1-Score (No Heart Disease): Os F1-scores para a classe \"Heart Disease=No\" são muito altos em todos os modelos, indicando um bom equilíbrio entre precisão e recall para essa classe.\n",
    "\n",
    "* F1-Score (Heart Disease): O F1-score para a classe \"Heart Disease=Yes\" é muito baixo em todos os modelos. O Decision Tree e MLP têm F1-scores muito baixos (0.06 e 0.05), enquanto o K-NN tem um desempenho ligeiramente melhor (0.14).\n",
    "\n",
    "O desempenho dos modelos para a classe \"Heart Disease=Yes\" é insuficiente, com todos os modelos tendo F1-scores baixos para essa classe. Isso sugere que, embora os modelos consigam identificar bem os indivíduos sem a doença, eles não são eficazes em identificar os pacientes com a doença.\n",
    "\n",
    "### 5. Importância dos Atributos:\n",
    "* Atributos mais importantes: A variável Age_Category é a mais importante, seguida por Diabetes e General_Health. Estes fatores parecem ser os mais relevantes para prever a presença de doença cardíaca.\n",
    "\n",
    "* Atributos com pouca ou nenhuma importância: A maioria das variáveis, como Exercise, Checkup, BMI, Alcohol_Consumption, entre outras, têm pouca ou nenhuma importância.\n",
    "\n",
    "\n",
    "## Conclusão Geral:\n",
    "* Tendo em conta os parâmetros avaliados e a rapidez de execução, o *Decision Tree* demonstrou ser o algortimo mais preciso e eficiente.\n",
    "\n",
    "* Todos os modelos têm boa acurácia na classificação de indivíduos sem doença cardíaca.\n",
    "\n",
    "* O maior desafio é a baixa capacidade dos modelos em identificar corretamente os pacientes com doença cardíaca, refletido em baixos valores de recall e F1-score para a classe \"Heart Disease\".\n",
    "\n",
    "* A implementação de modelos mais avançados como XGBoost ou Random Forest poderiam eventualmente lidar melhor com desbalanceamento de classes observada no *dataset* em análise.\n",
    "\n"
   ]
  },
  {
   "cell_type": "markdown",
   "metadata": {},
   "source": [
    "## Aprendizagem não supervisionada"
   ]
  },
  {
   "cell_type": "markdown",
   "metadata": {},
   "source": [
    "### *K-Means*"
   ]
  },
  {
   "cell_type": "markdown",
   "metadata": {},
   "source": [
    "Cluster 0:\n",
    "Age_Category: 3.236837\n",
    "\n",
    "A média da variável Age_Category para o cluster 0 é baixa (aproximadamente 3). Isso pode indicar que as pessoas neste grupo tendem a ser mais jovens. Dependendo de como essa variável foi codificada, pode ser que Age_Category represente faixas etárias, e um valor baixo significaria uma faixa etária jovem.\n",
    "Diabetes: 0.168639\n",
    "\n",
    "A média para Diabetes é de 0.1686, o que indica que as pessoas deste cluster têm uma probabilidade relativamente baixa de terem diabetes. Isso sugere que o cluster 0 pode conter pessoas sem diabetes ou com menos casos de diabetes.\n",
    "General_Health: 2.228262\n",
    "\n",
    "O valor médio de General_Health para este cluster é 2.23, o que pode indicar que as pessoas neste cluster têm uma saúde geral razoavelmente boa (caso a variável General_Health tenha uma escala de 1 a 5, onde valores mais baixos indicam melhor saúde). Esse valor não é muito baixo, mas ainda assim sugere uma boa condição de saúde.\n",
    "Cluster 1:\n",
    "Age_Category: 9.302408\n",
    "\n",
    "A média para Age_Category é significativamente mais alta em comparação com o Cluster 0, indicando que as pessoas neste cluster são, em média, mais velhas. Isso sugere que o cluster 1 pode representar pessoas de faixas etárias mais avançadas.\n",
    "Diabetes: 0.425157\n",
    "\n",
    "A média de Diabetes para o cluster 1 é mais alta que a do cluster 0, sugerindo que as pessoas deste grupo têm uma maior taxa de incidência de diabetes. Esse valor sugere que muitas pessoas neste cluster têm diabetes ou estão mais propensas a tê-lo.\n",
    "General_Health: 2.311028\n",
    "\n",
    "O valor médio de General_Health para este cluster é ligeiramente mais alto que o do cluster 0, sugerindo que, em média, as pessoas neste grupo podem ter uma saúde geral um pouco pior. Se a variável General_Health for uma classificação de saúde, isso pode indicar que as pessoas no cluster 1 tendem a se sentir em pior estado de saúde."
   ]
  },
  {
   "cell_type": "markdown",
   "metadata": {},
   "source": [
    "### *DBScan*"
   ]
  },
  {
   "cell_type": "markdown",
   "metadata": {},
   "source": [
    "O *output* do DBSCAN mostra a distribuição dos clusters gerados e a quantidade de pontos em cada *cluster*, incluindo o número de pontos atribuídos ao *cluster* -1, que é tratado como *outliers* ou \"anomalias\". Vamos analisar os resultados no contexto do problema de doença cardíaca:\n",
    "\n",
    "#### Clusters (0 a 33)\n",
    "* Cada número de 0 a 33 representa um *cluster* identificado pelo DBSCAN.\n",
    "* O *cluster* 0 contém 19.232 pontos, o que sugere que é o maior grupo e que pode representar uma característica comum em grande parte dos indivíduos. Isso indica um perfil de pessoas com características muito similares (por exemplo, fatores de risco menores ou mais comuns entre os membros do *cluster*).\n",
    "\n",
    "* Outros *clusters* como o *cluster* 1 (13.864 pontos) e *cluster* 3 (10.638 pontos) sugerem outros grupos de pessoas com características que compartilham semelhanças, mas com uma quantidade menor de indivíduos.\n",
    "\n",
    "#### Outliers (-1)\n",
    "* O *cluster* -1 tem 50 pontos e é uma parte crucial da análise. Este valor representa *outliers* ou anomalias, ou seja, pessoas que não se encaixam bem em nenhum dos outros grupos. Esses indivíduos podem ter características muito diferentes das outras pessoas, o que significa que os seus dados não são semelhantes o suficiente para serem agrupados.\n",
    "\n",
    "* Esses *outliers* podem ser casos raros ou atípicos que merecem uma investigação mais aprofundada. No contexto da doença cardíaca, poderiam ser pessoas com combinações muito específicas de fatores de risco que não são comuns.\n",
    "\n",
    "#### Características médias dos *clusters*\n",
    "\n",
    "O DBSCAN ajudou a identificar os *clusters* de pessoas com características diferentes. Ao ver as médias dos *clusters*, podemos fazer algumas inferências:\n",
    "\n",
    "* O *cluster* 0 tem uma média baixa de Diabetes (0.17) e uma média de General_Health de 2.23, o que pode indicar que a maioria das pessoas desse grupo tem uma boa saúde geral, com uma menor prevalência de diabetes.\n",
    "\n",
    "* O *cluster* 1, com uma média maior de Diabetes (0.42), pode ser um grupo que tem mais casos de diabetes, possivelmente pessoas com maior risco de doenças cardíacas.\n",
    "\n",
    "* Os *clusters* 3, 6, 5, etc., com médias variadas de Age_Category, Diabetes, e General_Health, podem representar diferentes combinações de idade, saúde geral e presença de diabetes, o que ajuda a identificar padrões diferentes de risco para doenças cardíacas.\n",
    "\n",
    "#### Impacto da identificação de *clusters* no modelo\n",
    "A análise dos pontos de *outliers* e dos *clusters* pode ajudar a entender os padrões e os fatores de risco que podem estar associados à doença cardíaca:\n",
    "\n",
    "* Os *clusters* de pessoas com maiores prevalências de diabetes ou pior saúde geral, correlacionam-se com maiores probabilidades de doença cardíaca.\n",
    "\n",
    "* A análise dos outliers (*cluster* -1) revela que existe um subgrupo de pessoas que têm uma combinação de características raras, possivelmente com risco de doença cardíaca, mas que não se encaixam nas categorias comuns, indicando uma presença significativa de  no *dataset*.\n",
    "\n",
    "A análise dos *clusters* no contexto de doenças cardíacas, com foco nas variáveis como **Age_Category**, **Diabetes** e **General_Health**, pode ajudar a dividir a população em estudo de acordo com diferentes características e riscos. Estes resultados indicam que diferentes grupos têm perfis de risco variados, e que a presença de *outliers* pode ajudar a identificar casos atípicos que merecem uma análise e uma atenção especial.\n"
   ]
  },
  {
   "cell_type": "markdown",
   "metadata": {},
   "source": [
    "### **Conclusão**\n",
    "Para criar um modelo preditivo para doenças cardiovasculares, a escolha do algoritmo de clustering é crucial, especialmente quando se lida com grandes volumes de dados. Embora o *DBSCAN* seja eficaz para identificar *clusters* de formas irregulares e detectar *outliers*, o K-Means é frequentemente preferido em cenários com grandes quantidades de dados. Isso ocorre porque o *K-Means* é mais escalável e tende a ser mais eficiente em termos de tempo de execução, especialmente quando o número de *clusters* é bem definido.\n",
    "\n",
    "No contexto do problema, optámos pelo *K-Means* devido ao tamanho substancial da base de dados e à sua capacidade de lidar com grandes volumes de dados de forma eficiente. Embora o *BDScan* tenha a vantagem de não exigir a definição prévia do número de *clusters* e ser mais flexível na identificação de padrões complexos, o *K-Means* mostrou ser a opção mais viável em termos de performance computacional. Assim, o *K-Means* adequa-se melhor às características específicas do nosso problema, garantindo um equilíbrio entre a análise de dados e a eficiência no processamento."
   ]
  }
 ],
 "metadata": {
  "language_info": {
   "name": "python"
  }
 },
 "nbformat": 4,
 "nbformat_minor": 2
}
